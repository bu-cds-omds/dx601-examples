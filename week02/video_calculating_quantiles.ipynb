{
  "cells": [
    {
      "cell_type": "markdown",
      "metadata": {
        "id": "rUIalqfRhIRu"
      },
      "source": [
        "# Video: Calculating Quantiles\n",
        "\n",
        "This video shows an easy way to calculate quantiles in Python, and a faster way using NumPy's quantile functions."
      ]
    },
    {
      "cell_type": "markdown",
      "metadata": {
        "id": "j7aGd1dI8EwN"
      },
      "source": [
        "Script:\n",
        "* Quantile calculations are usually described as sorting the values in a big list, and then picking a position in the list based on the target fraction.\n",
        "* This description is fine to describe what the results should be, but is not a very efficient computation-wise. We'll use that description once now, so you'll know how to calculate them easily, and can do so with minimal support.\n",
        "* So here is some data we have from before.\n"
      ]
    },
    {
      "cell_type": "code",
      "execution_count": null,
      "metadata": {
        "id": "BCMnlpfR8IJd"
      },
      "outputs": [],
      "source": [
        "data = [3, 4, 4, 5, 7, 2, 10]"
      ]
    },
    {
      "cell_type": "markdown",
      "metadata": {
        "id": "PkMWwRs18Nxe"
      },
      "source": [
        "Script:\n",
        "* Python provides a sorted function that will take any container and return a list with the container's contents in sorted order."
      ]
    },
    {
      "cell_type": "code",
      "execution_count": null,
      "metadata": {
        "id": "E832dHoA8Q04"
      },
      "outputs": [],
      "source": [
        "sorted_data = sorted(data)"
      ]
    },
    {
      "cell_type": "markdown",
      "metadata": {
        "id": "HHutQxuE8TzH"
      },
      "source": [
        "Script:\n",
        "* So now, we just pick an entry in this sorted list based on which fraction we are targeting for the quantile.\n",
        "* We can pick which entry blindly without looking at the data, just calculating the index, the position in the list, using the target fraction and the number of data points.\n",
        "* The basic calculation for the index for target fraction p is"
      ]
    },
    {
      "cell_type": "code",
      "execution_count": null,
      "metadata": {
        "id": "HulwE9jg8Yzj"
      },
      "outputs": [],
      "source": [
        "p=0.5"
      ]
    },
    {
      "cell_type": "code",
      "execution_count": null,
      "metadata": {
        "colab": {
          "base_uri": "https://localhost:8080/"
        },
        "id": "ZmG1Sq7v8kOP",
        "outputId": "9b07a316-9150-4749-bf46-0a701c96f2ed"
      },
      "outputs": [
        {
          "data": {
            "text/plain": [
              "3.0"
            ]
          },
          "execution_count": null,
          "metadata": {},
          "output_type": "execute_result"
        }
      ],
      "source": [
        "p * (len(data) - 1)"
      ]
    },
    {
      "cell_type": "markdown",
      "metadata": {
        "id": "T8asQT228pDL"
      },
      "source": [
        "Script:\n",
        "* Why minus one? Because list indexes in Python start at zero and end at the length - 1.\n",
        "* So when p is zero, we want to look at index zero, the first, smallest data value.\n",
        "* And when p is one, we want to look at index length minus one, the last, largest data value.\n",
        "* And in between, move smoothly from the first value to the last value.\n",
        "* Let's do that now."
      ]
    },
    {
      "cell_type": "code",
      "execution_count": null,
      "metadata": {
        "colab": {
          "base_uri": "https://localhost:8080/",
          "height": 144
        },
        "id": "joch5zE48tJZ",
        "outputId": "730179e8-b8a3-4695-90fb-922c3c255cc3"
      },
      "outputs": [
        {
          "ename": "TypeError",
          "evalue": "list indices must be integers or slices, not float",
          "execution_count": null,
          "output_type": "error",
          "traceback": [
            "\u001b[0;31m---------------------------------------------------------------------------\u001b[0m",
            "\u001b[0;31mTypeError\u001b[0m                                 Traceback (most recent call last)",
            "\u001b[0;32m<ipython-input-25-d295e728880e>\u001b[0m in \u001b[0;36m<cell line: 1>\u001b[0;34m()\u001b[0m\n\u001b[0;32m----> 1\u001b[0;31m \u001b[0msorted_data\u001b[0m\u001b[0;34m[\u001b[0m\u001b[0mp\u001b[0m \u001b[0;34m*\u001b[0m \u001b[0;34m(\u001b[0m\u001b[0mlen\u001b[0m\u001b[0;34m(\u001b[0m\u001b[0mdata\u001b[0m\u001b[0;34m)\u001b[0m \u001b[0;34m-\u001b[0m \u001b[0;36m1\u001b[0m\u001b[0;34m)\u001b[0m\u001b[0;34m]\u001b[0m\u001b[0;34m\u001b[0m\u001b[0;34m\u001b[0m\u001b[0m\n\u001b[0m",
            "\u001b[0;31mTypeError\u001b[0m: list indices must be integers or slices, not float"
          ]
        }
      ],
      "source": [
        "sorted_data[p * (len(data) - 1)]"
      ]
    },
    {
      "cell_type": "markdown",
      "metadata": {
        "id": "yoF0Sn9Q8yfi"
      },
      "source": [
        "Script:\n",
        "* Oops, fractional list locations don't work. Makes sense since we are asking for a spot between list entries.\n",
        "* There are two very common ways to deal with this. First is called the nearest rank method and just rounds up to get the next higher list entry.\n",
        "* So that would be\n"
      ]
    },
    {
      "cell_type": "code",
      "execution_count": null,
      "metadata": {
        "id": "WUGa7opWR8lp"
      },
      "outputs": [],
      "source": [
        "import math"
      ]
    },
    {
      "cell_type": "code",
      "execution_count": null,
      "metadata": {
        "colab": {
          "base_uri": "https://localhost:8080/"
        },
        "id": "ls9WpzWD83nN",
        "outputId": "f5b02ee3-8949-4dc4-ca10-5395793bf0c2"
      },
      "outputs": [
        {
          "data": {
            "text/plain": [
              "4"
            ]
          },
          "execution_count": null,
          "metadata": {},
          "output_type": "execute_result"
        }
      ],
      "source": [
        "sorted_data[int(math.ceil(p * (len(data) - 1)))]"
      ]
    },
    {
      "cell_type": "markdown",
      "metadata": {
        "id": "iAjJd_ly8_qr"
      },
      "source": [
        "Script:\n",
        "* The other common method is linear interpolation, using the fractional part to blend between the surrounding list entries.\n",
        "* This is the usual method for the median which simplifies a bit.\n",
        "* If you are calculating the median of an odd number of data points, then you just return the middle one.\n",
        "* If you are calculating the median of an even number of data points, then you return the average of the middle two data points.\n",
        "* Again, you'll want to use library functions to do this except for the most quick and dirty analysis on a small data set."
      ]
    },
    {
      "cell_type": "code",
      "execution_count": null,
      "metadata": {
        "id": "tUgbtui3R-C4"
      },
      "outputs": [],
      "source": [
        "import numpy as np"
      ]
    },
    {
      "cell_type": "code",
      "execution_count": null,
      "metadata": {
        "colab": {
          "base_uri": "https://localhost:8080/"
        },
        "id": "V8TKE7Bg9Eef",
        "outputId": "c93e936a-bf88-4fe3-a913-0b7bc3abd347"
      },
      "outputs": [
        {
          "data": {
            "text/plain": [
              "3.8"
            ]
          },
          "execution_count": null,
          "metadata": {},
          "output_type": "execute_result"
        }
      ],
      "source": [
        "np.quantile(data, 0.3)"
      ]
    },
    {
      "cell_type": "code",
      "execution_count": null,
      "metadata": {
        "colab": {
          "base_uri": "https://localhost:8080/"
        },
        "id": "DCdvlpEK9F0N",
        "outputId": "3ec6abc0-2658-49f0-c0e7-a7f4ab9258cb"
      },
      "outputs": [
        {
          "data": {
            "text/plain": [
              "4.0"
            ]
          },
          "execution_count": null,
          "metadata": {},
          "output_type": "execute_result"
        }
      ],
      "source": [
        "np.quantile(data, 0.5)"
      ]
    },
    {
      "cell_type": "code",
      "execution_count": null,
      "metadata": {
        "colab": {
          "base_uri": "https://localhost:8080/"
        },
        "id": "14C8uCnd9IEr",
        "outputId": "5b495937-c82a-4f07-d615-343528376370"
      },
      "outputs": [
        {
          "data": {
            "text/plain": [
              "4.0"
            ]
          },
          "execution_count": null,
          "metadata": {},
          "output_type": "execute_result"
        }
      ],
      "source": [
        "np.median(data)"
      ]
    },
    {
      "cell_type": "markdown",
      "metadata": {
        "id": "X7RsT1pEhL0u"
      },
      "source": [
        "Script:\n",
        "* Those NumPy functions will be much faster than the quick and dirty sorting methods.\n"
      ]
    }
  ],
  "metadata": {
    "colab": {},
    "kernelspec": {
      "display_name": "Python 3",
      "name": "python3"
    },
    "language_info": {
      "codemirror_mode": {
        "name": "ipython",
        "version": 3
      },
      "file_extension": ".py",
      "mimetype": "text/x-python",
      "name": "python",
      "nbconvert_exporter": "python",
      "pygments_lexer": "ipython3",
      "version": "3.9.6"
    }
  },
  "nbformat": 4,
  "nbformat_minor": 0
}