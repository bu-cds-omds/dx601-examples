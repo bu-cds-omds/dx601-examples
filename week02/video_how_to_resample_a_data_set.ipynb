{
  "cells": [
    {
      "cell_type": "markdown",
      "metadata": {
        "id": "IGE9Az7QjbcI"
      },
      "source": [
        "# Video: How to Resample a Data Set\n",
        "\n",
        "This video shows how to resample data using built-in Python functions."
      ]
    },
    {
      "cell_type": "markdown",
      "metadata": {
        "id": "jXbFZVTC9iqF"
      },
      "source": [
        "Script:\n",
        "* If you have a simple data set in a list, Python has a built in function to resample your data set.\n",
        "* This function is in the random module, and it is called choices."
      ]
    },
    {
      "cell_type": "code",
      "execution_count": null,
      "metadata": {
        "id": "CRpXgzAw9mc2"
      },
      "outputs": [],
      "source": [
        "import random"
      ]
    },
    {
      "cell_type": "code",
      "execution_count": null,
      "metadata": {
        "colab": {
          "base_uri": "https://localhost:8080/"
        },
        "id": "PWQLXF9F9npJ",
        "outputId": "90b2e7be-d011-483e-a7f5-8540e9c38539"
      },
      "outputs": [
        {
          "execution_count": null,
          "name": "stdout",
          "output_type": "stream",
          "text": [
            "Return a k sized list of population elements chosen with replacement.\n",
            "\n",
            "        If the relative weights or cumulative weights are not specified,\n",
            "        the selections are made with equal probability.\n",
            "\n",
            "        \n"
          ]
        }
      ],
      "source": [
        "print(random.choices.__doc__)"
      ]
    },
    {
      "cell_type": "code",
      "execution_count": null,
      "metadata": {
        "id": "TJNqOO8w9qHo"
      },
      "outputs": [],
      "source": [
        "data = list(range(10))"
      ]
    },
    {
      "cell_type": "code",
      "execution_count": null,
      "metadata": {
        "colab": {
          "base_uri": "https://localhost:8080/"
        },
        "id": "VUp37Q1J9rRo",
        "outputId": "5263a31c-0e82-4f77-821e-c464edb36bc4"
      },
      "outputs": [
        {
          "data": {
            "text/plain": [
              "[0, 1, 2, 3, 4, 5, 6, 7, 8, 9]"
            ]
          },
          "execution_count": null,
          "metadata": {},
          "output_type": "execute_result"
        }
      ],
      "source": [
        "data"
      ]
    },
    {
      "cell_type": "markdown",
      "metadata": {
        "id": "RP67vnbH9tlJ"
      },
      "source": [
        "Script:\n",
        "* So now our data variable is a list with integers from 0 to 9."
      ]
    },
    {
      "cell_type": "code",
      "execution_count": null,
      "metadata": {
        "colab": {
          "base_uri": "https://localhost:8080/"
        },
        "id": "cBFfsFOn9xnZ",
        "outputId": "abcda9f8-31f6-4f93-f3de-217913fc5e64"
      },
      "outputs": [
        {
          "data": {
            "text/plain": [
              "[4]"
            ]
          },
          "execution_count": null,
          "metadata": {},
          "output_type": "execute_result"
        }
      ],
      "source": [
        "random.choices(data)"
      ]
    },
    {
      "cell_type": "markdown",
      "metadata": {
        "id": "nBLpiJWX90Oj"
      },
      "source": [
        "Script:\n",
        "* Just calling the choices function with that data will return a list with one sample.\n",
        "* You can keep calling it for a different sample.\n"
      ]
    },
    {
      "cell_type": "code",
      "execution_count": null,
      "metadata": {
        "colab": {
          "base_uri": "https://localhost:8080/"
        },
        "id": "jxxP1xD_94BK",
        "outputId": "0d763e4b-bb59-4217-cec6-439cfbf756df"
      },
      "outputs": [
        {
          "data": {
            "text/plain": [
              "[5]"
            ]
          },
          "execution_count": null,
          "metadata": {},
          "output_type": "execute_result"
        }
      ],
      "source": [
        "random.choices(data)"
      ]
    },
    {
      "cell_type": "code",
      "execution_count": null,
      "metadata": {
        "colab": {
          "base_uri": "https://localhost:8080/"
        },
        "id": "sA0BGmLl94ue",
        "outputId": "0213d45d-4caa-4185-ca3f-e1e194c062f8"
      },
      "outputs": [
        {
          "data": {
            "text/plain": [
              "[6]"
            ]
          },
          "execution_count": null,
          "metadata": {},
          "output_type": "execute_result"
        }
      ],
      "source": [
        "random.choices(data)"
      ]
    },
    {
      "cell_type": "markdown",
      "metadata": {
        "id": "d4xoGYnJ-CLy"
      },
      "source": [
        "Script:\n",
        "* You can pass it a k parameter, the one mentioned in the doc string, to get more values in a sample."
      ]
    },
    {
      "cell_type": "code",
      "execution_count": null,
      "metadata": {
        "colab": {
          "base_uri": "https://localhost:8080/"
        },
        "id": "yGS0YCg2-Eol",
        "outputId": "37631c61-9cf7-4378-faa6-3acdec7a4174"
      },
      "outputs": [
        {
          "data": {
            "text/plain": [
              "[8, 4, 7, 8, 3]"
            ]
          },
          "execution_count": null,
          "metadata": {},
          "output_type": "execute_result"
        }
      ],
      "source": [
        "random.choices(data, k=5)"
      ]
    },
    {
      "cell_type": "code",
      "execution_count": null,
      "metadata": {
        "colab": {
          "base_uri": "https://localhost:8080/"
        },
        "id": "tF_dG2Xl-GV_",
        "outputId": "509f60d4-4b2c-47ef-823f-74be2407cae6"
      },
      "outputs": [
        {
          "data": {
            "text/plain": [
              "[3, 0, 8, 2, 3, 4, 2, 8, 7, 9]"
            ]
          },
          "execution_count": null,
          "metadata": {},
          "output_type": "execute_result"
        }
      ],
      "source": [
        "random.choices(data, k=10)"
      ]
    },
    {
      "cell_type": "markdown",
      "metadata": {
        "id": "9-UZw-6Eje3I"
      },
      "source": [
        "Script:\n",
        "* Note that this function is sampling with replacement, so we can get duplicates in those samples.\n"
      ]
    }
  ],
  "metadata": {
    "colab": {},
    "kernelspec": {
      "display_name": "Python 3",
      "name": "python3"
    },
    "language_info": {
      "codemirror_mode": {
        "name": "ipython",
        "version": 3
      },
      "file_extension": ".py",
      "mimetype": "text/x-python",
      "name": "python",
      "nbconvert_exporter": "python",
      "pygments_lexer": "ipython3",
      "version": "3.9.6"
    }
  },
  "nbformat": 4,
  "nbformat_minor": 0
}