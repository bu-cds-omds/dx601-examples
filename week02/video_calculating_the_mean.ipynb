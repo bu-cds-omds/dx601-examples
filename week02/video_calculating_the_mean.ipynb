{
  "cells": [
    {
      "cell_type": "markdown",
      "metadata": {
        "id": "gOrM0r-Qekg3"
      },
      "source": [
        "# Video: Calculating the Mean\n",
        "\n",
        "This video gives examples of calculating the mean in pure Python without any optional libraries, and using the NumPy library."
      ]
    },
    {
      "cell_type": "code",
      "execution_count": null,
      "metadata": {
        "id": "e-6WnfDI43iU"
      },
      "outputs": [],
      "source": [
        "import numpy as np"
      ]
    },
    {
      "cell_type": "code",
      "execution_count": null,
      "metadata": {
        "id": "gRzAyzrI48H9"
      },
      "outputs": [],
      "source": [
        "data = [3, 4, 4, 5, 7, 2, 10]"
      ]
    },
    {
      "cell_type": "markdown",
      "metadata": {
        "id": "Jz4PIvot49W9"
      },
      "source": [
        "Script:\n",
        "* Let's talk about how to calculate the arithmetic mean now.\n",
        "* The arithmetic mean is calculated by adding up all the items in the data set, and dividing by the number of items.\n",
        "* In Python, you would use the sum function to add them up, and the len function to count them."
      ]
    },
    {
      "cell_type": "code",
      "execution_count": null,
      "metadata": {
        "colab": {
          "base_uri": "https://localhost:8080/"
        },
        "id": "eV4Az5su5PCm",
        "outputId": "ef95a579-4c31-498f-c690-ce72dfdce16a"
      },
      "outputs": [
        {
          "data": {
            "text/plain": [
              "5.0"
            ]
          },
          "execution_count": null,
          "metadata": {},
          "output_type": "execute_result"
        }
      ],
      "source": [
        "sum(data) / len(data)"
      ]
    },
    {
      "cell_type": "markdown",
      "metadata": {
        "id": "jFoRSHiEem0W"
      },
      "source": [
        "Script:\n",
        "* The Python calculation above was pretty easy. You can also do the same calculation using the numpy module.\n",
        "\n",
        "\n"
      ]
    },
    {
      "cell_type": "code",
      "execution_count": null,
      "metadata": {
        "colab": {
          "base_uri": "https://localhost:8080/"
        },
        "id": "ro5htOd25Suo",
        "outputId": "b433fc12-c828-478d-8edc-793aa119c096"
      },
      "outputs": [
        {
          "data": {
            "text/plain": [
              "5.0"
            ]
          },
          "execution_count": null,
          "metadata": {},
          "output_type": "execute_result"
        }
      ],
      "source": [
        "np.mean(data)"
      ]
    },
    {
      "cell_type": "markdown",
      "metadata": {
        "id": "LUxHK5pP4yTY"
      },
      "source": [
        "Script:\n",
        "* That's a bit shorter. The main advantage of using it for such a simple example is that you can tell what it is from the function name, versus reading the code and thinking about it for a second. That might not seem a big deal now, but will be more helpful as the surrounding details get more complex.\n",
        "* For later statistics, this advantage will also grow because the calculations are more complex, but just calling the right function stays the same."
      ]
    }
  ],
  "metadata": {
    "colab": {},
    "kernelspec": {
      "display_name": "Python 3",
      "name": "python3"
    },
    "language_info": {
      "codemirror_mode": {
        "name": "ipython",
        "version": 3
      },
      "file_extension": ".py",
      "mimetype": "text/x-python",
      "name": "python",
      "nbconvert_exporter": "python",
      "pygments_lexer": "ipython3",
      "version": "3.9.6"
    }
  },
  "nbformat": 4,
  "nbformat_minor": 0
}