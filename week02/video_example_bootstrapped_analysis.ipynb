{
  "cells": [
    {
      "cell_type": "markdown",
      "metadata": {
        "id": "Hhg_iJPgkPgn"
      },
      "source": [
        "# Video: Example Bootstrapped Analysis\n",
        "\n",
        "This video shows an example of bootstrapped analysis, and how a single outlier substantially changes sample statistics.\n"
      ]
    },
    {
      "cell_type": "markdown",
      "metadata": {
        "id": "y9Omf2BoBShF"
      },
      "source": [
        "Script:\n",
        "* Let's do an example bootstrapped analysis.\n",
        "* For this analysis, I'm going to deliberately pick the data to have an outlier that will significantly affect the mean."
      ]
    },
    {
      "cell_type": "code",
      "execution_count": null,
      "metadata": {
        "id": "eRsN1hgYBVdb"
      },
      "outputs": [],
      "source": [
        "data = [0, 0, 0, 1, 1, 1, 2, 2, 2, 100]"
      ]
    },
    {
      "cell_type": "markdown",
      "metadata": {
        "id": "hH53yzk3BZdj"
      },
      "source": [
        "Script:\n",
        "* Of course, you will have run a histogram on the data and noticed that 100 sticking out there."
      ]
    },
    {
      "cell_type": "code",
      "execution_count": null,
      "metadata": {
        "id": "kf8qksBlBcqZ"
      },
      "outputs": [],
      "source": [
        "import matplotlib.pyplot as plt"
      ]
    },
    {
      "cell_type": "code",
      "execution_count": null,
      "metadata": {
        "colab": {
          "base_uri": "https://localhost:8080/",
          "height": 430
        },
        "id": "X_ekDLa0BeTo",
        "outputId": "889d1c5e-505e-445f-acfa-0b2b8ac07d4d"
      },
      "outputs": [
        {
          "data": {
            "image/png": "[encoded data removed]",
            "text/plain": [
              "<Figure size 640x480 with 1 Axes>"
            ]
          },
          "metadata": {},
          "output_type": "display_data"
        }
      ],
      "source": [
        "_ = plt.hist(data)"
      ]
    },
    {
      "cell_type": "markdown",
      "metadata": {
        "id": "C8M5VOLlBmkB"
      },
      "source": [
        "Script:\n",
        "* But pretend you didn't notice that.\n",
        "* Let's look at the mean and standard deviation."
      ]
    },
    {
      "cell_type": "code",
      "execution_count": null,
      "metadata": {
        "id": "rYr24-oVBohR"
      },
      "outputs": [],
      "source": [
        "import numpy as np"
      ]
    },
    {
      "cell_type": "code",
      "execution_count": null,
      "metadata": {
        "colab": {
          "base_uri": "https://localhost:8080/"
        },
        "id": "6WWfFdWBBrB7",
        "outputId": "a647ab98-b4d2-4344-fe55-26d29c902439"
      },
      "outputs": [
        {
          "data": {
            "text/plain": [
              "10.9"
            ]
          },
          "execution_count": null,
          "metadata": {},
          "output_type": "execute_result"
        }
      ],
      "source": [
        "np.mean(data)"
      ]
    },
    {
      "cell_type": "code",
      "execution_count": null,
      "metadata": {
        "colab": {
          "base_uri": "https://localhost:8080/"
        },
        "id": "yih0Xh3DBt11",
        "outputId": "67da92ce-0ba2-44ee-b0ac-4974c570d6ea"
      },
      "outputs": [
        {
          "data": {
            "text/plain": [
              "29.71009929300136"
            ]
          },
          "execution_count": null,
          "metadata": {},
          "output_type": "execute_result"
        }
      ],
      "source": [
        "np.std(data)"
      ]
    },
    {
      "cell_type": "markdown",
      "metadata": {
        "id": "qx4nQAupBwqR"
      },
      "source": [
        "Script:\n",
        "* That's a pretty big standard deviation compared to the mean.\n",
        "* Another hint that something funky is going on.\n",
        "* Let's do some bootstrapped samples."
      ]
    },
    {
      "cell_type": "code",
      "execution_count": null,
      "metadata": {
        "id": "q2l2nbsoUAA8"
      },
      "outputs": [],
      "source": [
        "import random"
      ]
    },
    {
      "cell_type": "code",
      "execution_count": null,
      "metadata": {
        "colab": {
          "base_uri": "https://localhost:8080/"
        },
        "id": "uIYeERPhB1Qf",
        "outputId": "58064f6f-7dde-4685-c2d0-9b87761beb68"
      },
      "outputs": [
        {
          "data": {
            "text/plain": [
              "[10.9, 11.0, 10.5, 30.7, 11.1, 1.5, 11.1, 10.8, 10.6, 0.5]"
            ]
          },
          "execution_count": null,
          "metadata": {},
          "output_type": "execute_result"
        }
      ],
      "source": [
        "resampled_means = []\n",
        "for i in range(1000):\n",
        "   resampled_means.append(np.mean(random.choices(data, k=len(data))))\n",
        "resampled_means[:10]"
      ]
    },
    {
      "cell_type": "markdown",
      "metadata": {
        "id": "ukHKpIoBB3Oc"
      },
      "source": [
        "Script:\n",
        "* and calculate the stats on the bootstrapped statistics."
      ]
    },
    {
      "cell_type": "code",
      "execution_count": null,
      "metadata": {
        "colab": {
          "base_uri": "https://localhost:8080/"
        },
        "id": "F6SZTk6My7wY",
        "outputId": "f45bfec5-566d-47c9-a1c7-26dee0eb74e3"
      },
      "outputs": [
        {
          "data": {
            "text/plain": [
              "10.941799999999999"
            ]
          },
          "execution_count": null,
          "metadata": {},
          "output_type": "execute_result"
        }
      ],
      "source": [
        "np.mean(resampled_means)"
      ]
    },
    {
      "cell_type": "markdown",
      "metadata": {
        "id": "Q2kj-XasB-yN"
      },
      "source": [
        "Script:\n",
        "* That's pretty similar to the original mean.\n",
        "* That's normal.\n",
        "* It's easy to prove that the expectation of the bootstrapped mean is the data set mean."
      ]
    },
    {
      "cell_type": "code",
      "execution_count": null,
      "metadata": {
        "colab": {
          "base_uri": "https://localhost:8080/"
        },
        "id": "k1qHVDhDB5wz",
        "outputId": "1be023e8-f3d2-49e9-ffe2-a60492902243"
      },
      "outputs": [
        {
          "data": {
            "text/plain": [
              "9.3096000322248"
            ]
          },
          "execution_count": null,
          "metadata": {},
          "output_type": "execute_result"
        }
      ],
      "source": [
        "np.std(resampled_means)"
      ]
    },
    {
      "cell_type": "markdown",
      "metadata": {
        "id": "X37DCeFRkSgB"
      },
      "source": [
        "Script:\n",
        "* And that's big again vs the mean.\n",
        "* What does this mean? If you resample the original data set, you're going to see a lot of variation in the mean of those resampled sets. And the premise of bootstrap sampling is that you will see similar variation taking a fresh sample of the same size from the original population.\n",
        "* Bootstrapping is not guaranteed to detect these cases, and there are cases where it can be proven to underestimate the variation sampling the original population.\n",
        "* That said, you can think of the variation you see from bootstrap sampling as a lower bound on sampling the original population.\n"
      ]
    }
  ],
  "metadata": {
    "colab": {},
    "kernelspec": {
      "display_name": "Python 3",
      "name": "python3"
    },
    "language_info": {
      "codemirror_mode": {
        "name": "ipython",
        "version": 3
      },
      "file_extension": ".py",
      "mimetype": "text/x-python",
      "name": "python",
      "nbconvert_exporter": "python",
      "pygments_lexer": "ipython3",
      "version": "3.9.6"
    }
  },
  "nbformat": 4,
  "nbformat_minor": 0
}