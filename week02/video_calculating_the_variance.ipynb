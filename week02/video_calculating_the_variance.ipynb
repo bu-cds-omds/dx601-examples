{
  "cells": [
    {
      "cell_type": "markdown",
      "metadata": {
        "id": "_6FQhklhfmf0"
      },
      "source": [
        "# Video: Calculating the Variance\n",
        "\n",
        "This video shows how to calculate the variance of a data set in pure Python or using the NumPy library. Adjustments for sample variance are also covered."
      ]
    },
    {
      "cell_type": "code",
      "execution_count": null,
      "metadata": {
        "id": "B0YVenRX515r"
      },
      "outputs": [],
      "source": [
        "import numpy as np"
      ]
    },
    {
      "cell_type": "code",
      "execution_count": null,
      "metadata": {
        "id": "bfFsABy153Oo"
      },
      "outputs": [],
      "source": [
        "data = [3, 4, 4, 5, 7, 2, 10]"
      ]
    },
    {
      "cell_type": "markdown",
      "metadata": {
        "id": "eMevfEdC59Gq"
      },
      "source": [
        "Script:\n",
        "* Let's talk about the variance of a data set now.\n",
        "* The variance of a data set is a way to measure how spread out the data is around the mean.\n",
        "* Here's the calculation."
      ]
    },
    {
      "cell_type": "code",
      "execution_count": null,
      "metadata": {
        "id": "hsvLy6Dj6BIi"
      },
      "outputs": [],
      "source": [
        "mean = sum(data) / len(data)"
      ]
    },
    {
      "cell_type": "code",
      "execution_count": null,
      "metadata": {
        "id": "r34DGSPw6C5Q"
      },
      "outputs": [],
      "source": [
        "variance = sum((d - mean)**2 for d in data) / len(data)"
      ]
    },
    {
      "cell_type": "markdown",
      "metadata": {
        "id": "v9fbddwz6J_w"
      },
      "source": [
        "Script:\n",
        "* Let's go through the details.\n",
        "* HIGHLIGHT MEAN\n",
        "* mean is the same calculation that we covered earlier.\n",
        "* HIGHLIGHT D MINUS MEAN\n",
        "* d minus mean is the difference between a particular sample d and the mean.\n",
        "* HIGHLIGHT SQUARED TERM\n",
        "* d minus mean in parenthesis, followed by that double asterisk two is taking the square of that difference. Double asterisk in python is exponentiation, or repeated multiplication.\n",
        "* HIGHLIGHT FOR D IN DATA\n",
        "* The next part, for d in data, runs that calculation for every value in the data variable.\n",
        "* HIGHLIGHT SUM\n",
        "* Then all of those calculated values, all the squared differences, are passed into the sum function that adds them up.\n",
        "* HIGHLIGHT LEN\n",
        "* Then all of that is divided by len(data), which is the number of data points.\n",
        "* So that's the variance. Sometimes called the population variance.\n",
        "* There's a slightly different calculation that we should be using for samples, the sample variance."
      ]
    },
    {
      "cell_type": "code",
      "execution_count": null,
      "metadata": {
        "id": "9L2Gj_4v6s5_"
      },
      "outputs": [],
      "source": [
        "sample_variance = sum((d - mean)**2 for d in data) / (len(data) - 1)"
      ]
    },
    {
      "cell_type": "markdown",
      "metadata": {
        "id": "jeoM4cpw6xfx"
      },
      "source": [
        "Script:\n",
        "* HIGHLIGHT DENOMINATOR\n",
        "* The difference is in the denominator which is decreased by one.\n",
        "* The technical reason for this change is that we will underestimate the variance if we calculate it using the first formula, while using the mean calculated from the same data set.\n",
        "* Practically, this is mostly an issue for small data sets.\n",
        "* But you will notice that this calculation blows up if you only have one data point, since that turns into a divide by zero in the sample variance calculation.\n",
        "* Calculating the variance of a single data point is a little silly - are we calculating its variation from itself, so the answer is zero?\n",
        "* Or are we calculating its variation from some true mean that we don't know?\n",
        "* The sample variance adjustment calls out the one sample variance as shenanigans.\n",
        "* In a previous video, I promised that the numpy module would provide functions to handle these calculations, so let's wrap up with those.\n",
        "* The NumPy function is called var, so using the usual np import, we will call it as `np.var`."
      ]
    },
    {
      "cell_type": "code",
      "execution_count": null,
      "metadata": {
        "colab": {
          "base_uri": "https://localhost:8080/"
        },
        "id": "RYjVSOoM6_a-",
        "outputId": "88ca76e9-5db4-4a03-8519-6e82453f904e"
      },
      "outputs": [
        {
          "data": {
            "text/plain": [
              "6.285714285714286"
            ]
          },
          "execution_count": null,
          "metadata": {},
          "output_type": "execute_result"
        }
      ],
      "source": [
        "np.var(data)"
      ]
    },
    {
      "cell_type": "markdown",
      "metadata": {
        "id": "WDA1Kqaa7CJN"
      },
      "source": [
        "Script:\n",
        "* That's our unadjusted population variance calculation."
      ]
    },
    {
      "cell_type": "code",
      "execution_count": null,
      "metadata": {
        "colab": {
          "base_uri": "https://localhost:8080/"
        },
        "id": "DAGTr1DU7FVV",
        "outputId": "28b64009-89d4-4d2e-ce48-cef704f2de9e"
      },
      "outputs": [
        {
          "data": {
            "text/plain": [
              "7.333333333333333"
            ]
          },
          "execution_count": null,
          "metadata": {},
          "output_type": "execute_result"
        }
      ],
      "source": [
        "np.var(data, ddof=1)"
      ]
    },
    {
      "cell_type": "markdown",
      "metadata": {
        "id": "p6odqhdT7In5"
      },
      "source": [
        "Script:\n",
        "* And that's our adjusted sample variance.\n",
        "* You will often see that adjustment skipped, and it won't be a big difference for large data sets, but now you know the right way to do it.\n",
        "* As for standard deviation and sample standard deviation, you just take the square root of the variance or sample variance respectively.\n",
        "* That would be math.sqrt."
      ]
    },
    {
      "cell_type": "code",
      "execution_count": null,
      "metadata": {
        "id": "CF4kWsx17RsX"
      },
      "outputs": [],
      "source": [
        "import math"
      ]
    },
    {
      "cell_type": "code",
      "execution_count": null,
      "metadata": {
        "colab": {
          "base_uri": "https://localhost:8080/"
        },
        "id": "OM9UO4QI7Pnq",
        "outputId": "412dcbb7-298f-4b9f-9f25-fd1dfe0bfc63"
      },
      "outputs": [
        {
          "data": {
            "text/plain": [
              "2.5071326821120348"
            ]
          },
          "execution_count": null,
          "metadata": {},
          "output_type": "execute_result"
        }
      ],
      "source": [
        "math.sqrt(np.var(data))"
      ]
    },
    {
      "cell_type": "markdown",
      "metadata": {
        "id": "pKh_-u5I7VYy"
      },
      "source": [
        "Script:\n",
        "* But since you already are using numpy, use numpy.std to calculate it directly."
      ]
    },
    {
      "cell_type": "code",
      "execution_count": null,
      "metadata": {
        "colab": {
          "base_uri": "https://localhost:8080/"
        },
        "id": "NoCuptFv7Ypz",
        "outputId": "dea3f0c9-8798-4b65-919d-959d2c2521ef"
      },
      "outputs": [
        {
          "data": {
            "text/plain": [
              "2.5071326821120348"
            ]
          },
          "execution_count": null,
          "metadata": {},
          "output_type": "execute_result"
        }
      ],
      "source": [
        "np.std(data)"
      ]
    },
    {
      "cell_type": "markdown",
      "metadata": {
        "id": "ZMI9BEvK7cvv"
      },
      "source": [
        "Script:\n",
        "* And the sample adjustment is the same."
      ]
    },
    {
      "cell_type": "code",
      "execution_count": null,
      "metadata": {
        "colab": {
          "base_uri": "https://localhost:8080/"
        },
        "id": "JHuYqA1l7m7b",
        "outputId": "989c87ca-5f71-4cae-fbd4-b8e01c4f6010"
      },
      "outputs": [
        {
          "data": {
            "text/plain": [
              "2.70801280154532"
            ]
          },
          "execution_count": null,
          "metadata": {},
          "output_type": "execute_result"
        }
      ],
      "source": [
        "np.std(data, ddof=1)"
      ]
    },
    {
      "cell_type": "markdown",
      "metadata": {
        "id": "fv9R5da_ftMc"
      },
      "source": [
        "Script:\n",
        "* And now you can calculate the variance and standard deviation.\n"
      ]
    }
  ],
  "metadata": {
    "colab": {},
    "kernelspec": {
      "display_name": "Python 3",
      "name": "python3"
    },
    "language_info": {
      "codemirror_mode": {
        "name": "ipython",
        "version": 3
      },
      "file_extension": ".py",
      "mimetype": "text/x-python",
      "name": "python",
      "nbconvert_exporter": "python",
      "pygments_lexer": "ipython3",
      "version": "3.9.6"
    }
  },
  "nbformat": 4,
  "nbformat_minor": 0
}