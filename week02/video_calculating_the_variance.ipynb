{
  "cells": [
    {
      "cell_type": "markdown",
      "metadata": {
        "id": "_6FQhklhfmf0"
      },
      "source": [
        "# Video: Calculating the Variance\n",
        "\n",
        "This video shows how to calculate the variance of a data set in pure Python or using the NumPy library. Adjustments for sample variance are also covered."
      ]
    },
    {
      "cell_type": "code",
      "execution_count": null,
      "metadata": {
        "id": "B0YVenRX515r"
      },
      "outputs": [],
      "source": [
        "import numpy as np"
      ]
    },
    {
      "cell_type": "code",
      "execution_count": null,
      "metadata": {
        "id": "bfFsABy153Oo"
      },
      "outputs": [],
      "source": [
        "data = [3, 4, 4, 5, 7, 2, 10]"
      ]
    },
    {
      "cell_type": "code",
      "execution_count": null,
      "metadata": {
        "id": "hsvLy6Dj6BIi"
      },
      "outputs": [],
      "source": [
        "mean = sum(data) / len(data)"
      ]
    },
    {
      "cell_type": "code",
      "execution_count": null,
      "metadata": {
        "id": "r34DGSPw6C5Q"
      },
      "outputs": [],
      "source": [
        "variance = sum((d - mean)**2 for d in data) / len(data)"
      ]
    },
    {
      "cell_type": "code",
      "execution_count": null,
      "metadata": {
        "id": "9L2Gj_4v6s5_"
      },
      "outputs": [],
      "source": [
        "sample_variance = sum((d - mean)**2 for d in data) / (len(data) - 1)"
      ]
    },
    {
      "cell_type": "code",
      "execution_count": null,
      "metadata": {
        "colab": {
          "base_uri": "https://localhost:8080/"
        },
        "id": "RYjVSOoM6_a-",
        "outputId": "88ca76e9-5db4-4a03-8519-6e82453f904e"
      },
      "outputs": [
        {
          "data": {
            "text/plain": [
              "6.285714285714286"
            ]
          },
          "execution_count": null,
          "metadata": {},
          "output_type": "execute_result"
        }
      ],
      "source": [
        "np.var(data)"
      ]
    },
    {
      "cell_type": "code",
      "execution_count": null,
      "metadata": {
        "colab": {
          "base_uri": "https://localhost:8080/"
        },
        "id": "DAGTr1DU7FVV",
        "outputId": "28b64009-89d4-4d2e-ce48-cef704f2de9e"
      },
      "outputs": [
        {
          "data": {
            "text/plain": [
              "7.333333333333333"
            ]
          },
          "execution_count": null,
          "metadata": {},
          "output_type": "execute_result"
        }
      ],
      "source": [
        "np.var(data, ddof=1)"
      ]
    },
    {
      "cell_type": "code",
      "execution_count": null,
      "metadata": {
        "id": "CF4kWsx17RsX"
      },
      "outputs": [],
      "source": [
        "import math"
      ]
    },
    {
      "cell_type": "code",
      "execution_count": null,
      "metadata": {
        "colab": {
          "base_uri": "https://localhost:8080/"
        },
        "id": "OM9UO4QI7Pnq",
        "outputId": "412dcbb7-298f-4b9f-9f25-fd1dfe0bfc63"
      },
      "outputs": [
        {
          "data": {
            "text/plain": [
              "2.5071326821120348"
            ]
          },
          "execution_count": null,
          "metadata": {},
          "output_type": "execute_result"
        }
      ],
      "source": [
        "math.sqrt(np.var(data))"
      ]
    },
    {
      "cell_type": "code",
      "execution_count": null,
      "metadata": {
        "colab": {
          "base_uri": "https://localhost:8080/"
        },
        "id": "NoCuptFv7Ypz",
        "outputId": "dea3f0c9-8798-4b65-919d-959d2c2521ef"
      },
      "outputs": [
        {
          "data": {
            "text/plain": [
              "2.5071326821120348"
            ]
          },
          "execution_count": null,
          "metadata": {},
          "output_type": "execute_result"
        }
      ],
      "source": [
        "np.std(data)"
      ]
    },
    {
      "cell_type": "code",
      "execution_count": null,
      "metadata": {
        "colab": {
          "base_uri": "https://localhost:8080/"
        },
        "id": "JHuYqA1l7m7b",
        "outputId": "989c87ca-5f71-4cae-fbd4-b8e01c4f6010"
      },
      "outputs": [
        {
          "data": {
            "text/plain": [
              "2.70801280154532"
            ]
          },
          "execution_count": null,
          "metadata": {},
          "output_type": "execute_result"
        }
      ],
      "source": [
        "np.std(data, ddof=1)"
      ]
    }
  ],
  "metadata": {
    "colab": {},
    "kernelspec": {
      "display_name": "Python 3",
      "name": "python3"
    },
    "language_info": {
      "codemirror_mode": {
        "name": "ipython",
        "version": 3
      },
      "file_extension": ".py",
      "mimetype": "text/x-python",
      "name": "python",
      "nbconvert_exporter": "python",
      "pygments_lexer": "ipython3",
      "version": "3.9.6"
    }
  },
  "nbformat": 4,
  "nbformat_minor": 0
}