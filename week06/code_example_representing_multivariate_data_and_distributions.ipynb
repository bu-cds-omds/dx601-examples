{
  "cells": [
    {
      "cell_type": "markdown",
      "metadata": {
        "id": "heyjGhCBb3kT"
      },
      "source": [
        "# Code Example: Representing Multivariate Data and Distributions\n",
        "\n",
        "Representing multivariate data is easy in any representation based on rows and columns -- just add a column for each variable.\n",
        "We already saw examples of that when we talked about linear regression; we just called them columns before splitting them into inputs and outputs.\n",
        "For the moment, we are not concerned with inputs and outputs, so each variable is just another column.\n",
        "\n",
        "Consider the following data describing ten fictional mangos.\n",
        "Each row in this table corresponds to a single mango.\n",
        "\n",
        "| yellowness | softness |\n",
        "|---|---|\n",
        "| 1 | 1 |\n",
        "| 2 | 1 |\n",
        "| 2 | 2 |\n",
        "| 3 | 2 |\n",
        "| 3 | 2 |\n",
        "| 3 | 3 |\n",
        "| 3 | 4 |\n",
        "| 4 | 4 |\n",
        "| 4 | 4 |\n",
        "| 5 | 5 |\n",
        "\n",
        "We can compact this table by combining rows with the same values and adding a count for the number of combined rows.\n",
        "This is essentially making a histogram, but with more than one variable, and not using buckets.\n",
        "**<font color=\"red\">Feels like this should have come a lot earlier.</font>**\n",
        "\n",
        "| yellowness | softness | count |\n",
        "|---|---|---|\n",
        "| 1 | 1 | 1 |\n",
        "| 2 | 1 | 1 |\n",
        "| 2 | 2 | 1 |\n",
        "| 3 | 2 | 2 |\n",
        "| 3 | 3 | 1 |\n",
        "| 3 | 4 | 1 |\n",
        "| 4 | 4 | 2 |\n",
        "| 5 | 5 | 1 |\n",
        "\n",
        "From this table, we can trivially turn the counts into probabilities by dividing the total count (or the original number of rows).\n",
        "\n",
        "| yellowness | softness | sample probability |\n",
        "|---|---|---|\n",
        "| 1 | 1 | 1/10 = 0.1 |\n",
        "| 2 | 1 | 1/10 = 0.1 |\n",
        "| 2 | 2 | 1/10 = 0.1 |\n",
        "| 3 | 2 | 2/10 = 0.2 |\n",
        "| 3 | 3 | 1/10 = 0.1 |\n",
        "| 3 | 4 | 1/10 = 0.1 |\n",
        "| 4 | 4 | 2/10 = 0.2 |\n",
        "| 5 | 5 | 1/10 = 0.1 |\n",
        "\n",
        "At this point, the table is a concise representation of the sample probability distribution.\n",
        "This table can easily be represented as a list or array in Python, but depending on your needs, you may prefer a dictionary of probabilities like we've used the last couple weeks.\n",
        "But what will the key be?\n",
        "\n",
        "Previously, we described probability distributions of one variable, so we used the values of that variable as the keys.\n",
        "Now, we are looking at multiple variables, so there are multiple values at once.\n",
        "The simplest way to handle this is to make a tuple of the values.\n",
        "The main thing to remember here is to use a consistent order of variables when assembling the tuples.\n",
        "Here is some example code to do so.\n"
      ]
    },
    {
      "cell_type": "code",
      "execution_count": null,
      "metadata": {
        "id": "NZIo0ZzAyDqz"
      },
      "outputs": [],
      "source": [
        "def build_multivariate_distribution(input_data):\n",
        "    \"\"\"Reads input as array-like data.\n",
        "\n",
        "    Returns probability distribution of whole rows.\"\"\"\n",
        "\n",
        "    counts = {}\n",
        "    for row in input_data:\n",
        "        key = tuple(row)\n",
        "        counts[key] = counts.get(key, 0) + 1\n",
        "\n",
        "    total_count = sum(counts.values())\n",
        "\n",
        "    return {key: count / total_count for key, count in counts.items()}"
      ]
    },
    {
      "cell_type": "markdown",
      "metadata": {
        "id": "CPMU7ojZz6aI"
      },
      "source": [
        "**Code Notes:**\n",
        "* The initial string at the beginning of the function is called a doc-string.\n",
        "  * Doc strings are used as built-in documentation.\n",
        "  * A number of tools can automatically extract docstrings to generate separate documentation. Many module web pages use these to document their functions.\n",
        "  * The doc string can be accessed programmatically as the `__doc__` attribute. In this case, that would be `build_multivariate_distribution.__doc__`.\n",
        "* The `for` loop iterates over each row of data.\n",
        "  * This is where the \"array-like\" requirement comes in. The phrasing is from NumPy, and in this context, means we expect the `for` loop to repeat for individual rows of data.\n",
        "  * Each row is converted to a tuple containing the same values to get a key. Converting into a tuple freezes the values so they can not be changed. This lets the tuple be used as a key in the dictionary.\n",
        "* `counts.get(key, 0)` is used to handle cases where the key is not in the dictionary yet.\n",
        "  * If it is not in the dictionary yet, `0` will be returned as the default value, meaning no matching rows were previously counted.\n",
        "  * Just using `counts[key]` would raise `KeyError` exceptions.\n",
        "  * Alternatively, you could check `key in counts`, but using `counts.get(key, 0)` makes the overall code simpler.\n",
        "* `counts.values()` returns a sequence of values in the dictionary.\n",
        "  * Since this dictionary has row/count pairs, the sequence is of row counts.\n",
        "  * Summing the row counts gives the total number of input rows.\n",
        "* The last line is a dictionary comprehension.\n",
        "  * A dictionary comprehension is like a list comprehension, but written surrounded with braces (`{}`) instead of brackets (`[]`), and requires two values of output separated by a colon (`:`).\n",
        "  * This dictionary comprehension works with the sequence of key/count pairs from the `counts.items()` sequence.\n"
      ]
    },
    {
      "cell_type": "code",
      "execution_count": null,
      "metadata": {
        "colab": {
          "base_uri": "https://localhost:8080/"
        },
        "id": "6eQzVpyEyzje",
        "outputId": "1670fb55-4e91-4d43-b6af-ec045c48ffbf"
      },
      "outputs": [
        {
          "data": {
            "text/plain": [
              "{(1, 1): 0.1,\n",
              " (2, 1): 0.1,\n",
              " (2, 2): 0.1,\n",
              " (3, 2): 0.2,\n",
              " (3, 3): 0.1,\n",
              " (3, 4): 0.1,\n",
              " (4, 4): 0.2,\n",
              " (5, 5): 0.1}"
            ]
          },
          "execution_count": 17,
          "metadata": {},
          "output_type": "execute_result"
        }
      ],
      "source": [
        "# mango data: two columns: yellowness and softness\n",
        "mango_data = [[1,1],[2,1],[2,2],[3,2],[3,2],[3,3],[3,4],[4,4],[4,4],[5,5]]\n",
        "\n",
        "# output keys are (yellowness, softness) tuples\n",
        "mango_distribution = build_multivariate_distribution(mango_data)\n",
        "mango_distribution"
      ]
    },
    {
      "cell_type": "markdown",
      "metadata": {
        "id": "sOQx9ukT4xuB"
      },
      "source": [
        "**Code Notes:**\n",
        "* `mango_data` has the same data as in the first table above, structured as a list of lists.\n",
        "* The resulting distribution has tuples of yellowness and softness as keys."
      ]
    },
    {
      "cell_type": "markdown",
      "metadata": {
        "id": "l0CDAdzC5zuM"
      },
      "source": [
        "**Side Note:**\n",
        "* This function `build_multivariate_distribution` implements one of the ways to turn multiple variables into one variable, by wrapping up the multiple variables into a single tuple.\n",
        "  * We previously said we would avoid this, and maintain this stance for reasoning about variables.\n",
        "  * When programming, it may be much more convenient to merge them into one, but we emphasize that these tuple keys still are transparent about the original variable values."
      ]
    }
  ],
  "metadata": {
    "colab": {},
    "kernelspec": {
      "display_name": "Python 3",
      "name": "python3"
    },
    "language_info": {
      "codemirror_mode": {
        "name": "ipython",
        "version": 3
      },
      "file_extension": ".py",
      "mimetype": "text/x-python",
      "name": "python",
      "nbconvert_exporter": "python",
      "pygments_lexer": "ipython3",
      "version": "3.9.6"
    }
  },
  "nbformat": 4,
  "nbformat_minor": 0
}