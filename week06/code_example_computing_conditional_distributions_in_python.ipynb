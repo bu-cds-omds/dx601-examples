{
  "cells": [
    {
      "cell_type": "markdown",
      "metadata": {
        "id": "SY3KmyKiz-Z3"
      },
      "source": [
        "# Code Example: Computing Conditional Distributions in Python"
      ]
    },
    {
      "cell_type": "code",
      "execution_count": null,
      "metadata": {
        "id": "-4zVdezY0IwX"
      },
      "outputs": [],
      "source": [
        "def build_conditional_from_distribution(input_distribution, condition_func):\n",
        "    temp = {k: p for k, p in input_distribution.items() if condition_func(k)}\n",
        "    condition_probability = sum(temp.values())\n",
        "\n",
        "    return {k: p / condition_probability for k, p in temp.items()}"
      ]
    },
    {
      "cell_type": "markdown",
      "metadata": {
        "id": "8hp_vphBOvWR"
      },
      "source": [
        "**Code Notes:**\n",
        "* `build_conditional_from_distribution` works as follows.\n",
        "  1. First filter the key/value pairs from the input distribution according to the condition,\n",
        "  2. Calculate the probability of the condition ($P(B)$) by summing up the surviving probabilities, and\n",
        "  3. Divide all the probabilities so that they sum up to one again (the division by $P(B)$ in the formulas above).\n",
        "* `build_conditional_from_distribution` does not change the keys, so conditioning for a variable having a particular value still shows that variable present, but fixed to that value. If this is inconvenient, `build_marginal_from_distribution` can be used to drop the conditioned variable."
      ]
    },
    {
      "cell_type": "code",
      "execution_count": null,
      "metadata": {
        "colab": {
          "base_uri": "https://localhost:8080/"
        },
        "id": "PRpKGAZuOQvT",
        "outputId": "b0a8088e-1b68-4040-8749-eb1f93d77ec6"
      },
      "outputs": [
        {
          "data": {
            "text/plain": [
              "{(3, 2): 0.5, (3, 3): 0.25, (3, 4): 0.25}"
            ]
          },
          "execution_count": null,
          "metadata": {},
          "output_type": "execute_result"
        }
      ],
      "source": [
        "build_conditional_from_distribution(mango_distribution, lambda r: r[0]==3)"
      ]
    }
  ],
  "metadata": {
    "colab": {},
    "kernelspec": {
      "display_name": "Python 3",
      "name": "python3"
    },
    "language_info": {
      "codemirror_mode": {
        "name": "ipython",
        "version": 3
      },
      "file_extension": ".py",
      "mimetype": "text/x-python",
      "name": "python",
      "nbconvert_exporter": "python",
      "pygments_lexer": "ipython3",
      "version": "3.9.6"
    }
  },
  "nbformat": 4,
  "nbformat_minor": 0
}