{
  "cells": [
    {
      "cell_type": "markdown",
      "metadata": {
        "id": "dRIBGlmZzvcR"
      },
      "source": [
        "# Code Example: Computing Marginal Distributions in Python"
      ]
    },
    {
      "cell_type": "code",
      "execution_count": null,
      "metadata": {
        "id": "W6sQlFsHcpKA"
      },
      "outputs": [],
      "source": [
        "def build_marginal_from_rows(input_data, selected_variables):\n",
        "    counts = {}\n",
        "    for input_row in input_data:\n",
        "        output_key = tuple(input_row[i] for i in selected_variables)\n",
        "        counts[output_key] = counts.get(output_key, 0) + 1\n",
        "\n",
        "    total_count = sum(counts.values())\n",
        "\n",
        "    return {key: count / total_count for key, count in counts.items()}"
      ]
    },
    {
      "cell_type": "markdown",
      "metadata": {
        "id": "gnvVhPekdNgr"
      },
      "source": [
        "**Code Notes:**\n",
        "* This new function `build_marginal_from_rows` is pretty similar to `build_multivariate_distribution` earlier, but adds a new argument `selected_variables` and changes the `key` setup for the output.\n",
        "  * `selected_variables` is a sequence of column indexes into the input data to allow easy construction of `output_key`.\n"
      ]
    },
    {
      "cell_type": "code",
      "execution_count": null,
      "metadata": {
        "colab": {
          "base_uri": "https://localhost:8080/"
        },
        "id": "LWXYpc52dOU8",
        "outputId": "56e1d1d5-4c7a-4a4d-a5ec-475b9f3f56a8"
      },
      "outputs": [
        {
          "data": {
            "text/plain": [
              "{(1,): 0.1, (2,): 0.2, (3,): 0.4, (4,): 0.2, (5,): 0.1}"
            ]
          },
          "execution_count": 23,
          "metadata": {},
          "output_type": "execute_result"
        }
      ],
      "source": [
        "build_marginal_from_rows(mango_data, [0])"
      ]
    },
    {
      "cell_type": "markdown",
      "metadata": {
        "id": "WWUZusFueOYg"
      },
      "source": [
        "**Code Notes:**\n",
        "* This call to `build_marginal_from_rows` selected column zero, yellowness, so the resulting dictionary is populated with sample probabilities for the yellowness values."
      ]
    },
    {
      "cell_type": "code",
      "execution_count": null,
      "metadata": {
        "id": "Uk4Yp2RQcK9b"
      },
      "outputs": [],
      "source": [
        "def build_marginal_from_distribution(input_distribution, selected_variables):\n",
        "    output = {}\n",
        "    for (input_key, input_probability) in input_distribution.items():\n",
        "        output_key = tuple(input_key[i] for i in selected_variables)\n",
        "        output[output_key] = output.get(output_key, 0.0) + input_probability\n",
        "\n",
        "    return output"
      ]
    },
    {
      "cell_type": "markdown",
      "metadata": {
        "id": "IgB5EQQAeyHR"
      },
      "source": [
        "**Code Notes:**\n",
        "* This new function `build_marginal_from_distribution` takes in the same `selected_variables` argument, and a previously computed dictionary of probabilities.\n",
        "  * The columns indices in `selected_variables` must be relative to the key order of the input distribution. There is no tracking of the original file columns or order.\n",
        "  * Instead of aggregating counts and then dividing for probabilities, this function sums up probabilities since those input distribution makes them directly available."
      ]
    },
    {
      "cell_type": "code",
      "execution_count": null,
      "metadata": {
        "colab": {
          "base_uri": "https://localhost:8080/"
        },
        "id": "5sAScK2rdfSr",
        "outputId": "79bcf61a-f747-49b9-f1ca-2afd63fea8e6"
      },
      "outputs": [
        {
          "data": {
            "text/plain": [
              "{(1,): 0.1, (2,): 0.2, (3,): 0.4, (4,): 0.2, (5,): 0.1}"
            ]
          },
          "execution_count": 25,
          "metadata": {},
          "output_type": "execute_result"
        }
      ],
      "source": [
        "build_marginal_from_distribution(mango_distribution, [0])"
      ]
    },
    {
      "cell_type": "markdown",
      "metadata": {
        "id": "MHKPwp8Hec4S"
      },
      "source": [
        "**Code Notes:**\n",
        "* This call to `build_marginal_from_distribution` computes the same dictionary as the call to `build_marginal_from_rows`, but using the previously computed distribution of all the mango data, instead of the original rows."
      ]
    }
  ],
  "metadata": {
    "colab": {},
    "kernelspec": {
      "display_name": "Python 3",
      "name": "python3"
    },
    "language_info": {
      "codemirror_mode": {
        "name": "ipython",
        "version": 3
      },
      "file_extension": ".py",
      "mimetype": "text/x-python",
      "name": "python",
      "nbconvert_exporter": "python",
      "pygments_lexer": "ipython3",
      "version": "3.9.6"
    }
  },
  "nbformat": 4,
  "nbformat_minor": 0
}