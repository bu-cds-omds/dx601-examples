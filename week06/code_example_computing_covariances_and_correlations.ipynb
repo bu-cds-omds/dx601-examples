{
  "cells": [
    {
      "cell_type": "markdown",
      "metadata": {
        "id": "bygOWJgsReGq"
      },
      "source": [
        "# Code Example: Computing Covariances and Correlations\n",
        "\n",
        "Here is sample code to calculate covariances and correlations in Python.\n"
      ]
    },
    {
      "cell_type": "code",
      "execution_count": null,
      "metadata": {
        "id": "ePZUjnk-aFcq"
      },
      "outputs": [],
      "source": [
        "import math\n",
        "\n",
        "def mean(X):\n",
        "    return sum(X) / len(X)\n",
        "\n",
        "def var(X):\n",
        "    X_mean = mean(X)\n",
        "    return mean((x - X_mean)**2 for x in X)\n",
        "\n",
        "def std(X):\n",
        "    return math.sqrt(var(X))\n",
        "\n",
        "def cov(X, Y):\n",
        "    X_mean = mean(X)\n",
        "    Y_mean = mean(Y)\n",
        "\n",
        "    return mean((x - X_mean) * (y - Y_mean) for x, y in zip(X, Y))\n",
        "\n",
        "def corrcoef(X, Y):\n",
        "    return cov(X, Y) / (std(X) * std(Y))\n"
      ]
    },
    {
      "cell_type": "markdown",
      "metadata": {
        "id": "ZXp23PjraReh"
      },
      "source": [
        "**Code Notes:**\n",
        "* These functions follow the formulas previously given very closely.\n",
        "  * Note the use of the `mean` function for $E[]$ expressions after `mean` is defined.\n",
        "* These function names were chosen to match the NumPy implementations, so you can swap in `numpy.SAMENAME` or `np.SAMENAME` depending on your imports.\n",
        "  * [NumPy function `numpy.cov`](https://numpy.org/doc/stable/reference/generated/numpy.cov.html), often referenced as `np.cov`, implements the covariance function.\n",
        "  * [NumPy function `numpy.corrcoef`](https://numpy.org/doc/stable/reference/generated/numpy.corrcoef.html), often referenced as `np.corrcoef`, implements Pearson's correlation coefficient.\n"
      ]
    }
  ],
  "metadata": {
    "colab": {},
    "kernelspec": {
      "display_name": "Python 3",
      "name": "python3"
    },
    "language_info": {
      "codemirror_mode": {
        "name": "ipython",
        "version": 3
      },
      "file_extension": ".py",
      "mimetype": "text/x-python",
      "name": "python",
      "nbconvert_exporter": "python",
      "pygments_lexer": "ipython3",
      "version": "3.9.6"
    }
  },
  "nbformat": 4,
  "nbformat_minor": 0
}