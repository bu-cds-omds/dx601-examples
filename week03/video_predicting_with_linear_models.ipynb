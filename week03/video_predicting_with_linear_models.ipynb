{
  "cells": [
    {
      "cell_type": "markdown",
      "metadata": {
        "id": "BM-FigsZqqG1"
      },
      "source": [
        "# Video: Predicting with Linear Models\n",
        "\n",
        "This video explains how linear models work with a code example emphasizing the relationship between variables and model coefficients."
      ]
    },
    {
      "cell_type": "code",
      "execution_count": null,
      "metadata": {
        "colab": {
          "base_uri": "https://localhost:8080/"
        },
        "id": "5wibaINT90V-",
        "outputId": "dc43e0c6-a868-47dc-be9f-c31b671049bd"
      },
      "outputs": [
        {
          "name": "stdout",
          "output_type": "stream",
          "text": [
            "--2024-08-13 02:49:52--  https://raw.githubusercontent.com/bu-cds-omds/dx601-examples/main/data/mango-tiny.tsv\n",
            "Resolving raw.githubusercontent.com (raw.githubusercontent.com)... 185.199.111.133, 185.199.108.133, 185.199.110.133, ...\n",
            "Connecting to raw.githubusercontent.com (raw.githubusercontent.com)|185.199.111.133|:443... connected.\n",
            "HTTP request sent, awaiting response... 200 OK\n",
            "Length: 151 [text/plain]\n",
            "Saving to: \u2018mango-tiny.tsv\u2019\n",
            "\n",
            "\rmango-tiny.tsv        0%[                    ]       0  --.-KB/s               \rmango-tiny.tsv      100%[===================>]     151  --.-KB/s    in 0s      \n",
            "\n",
            "2024-08-13 02:49:53 (1.60 MB/s) - \u2018mango-tiny.tsv\u2019 saved [151/151]\n",
            "\n"
          ]
        }
      ],
      "source": [
        "!wget https://raw.githubusercontent.com/bu-cds-omds/dx601-examples/main/data/mango-tiny.tsv"
      ]
    },
    {
      "cell_type": "markdown",
      "metadata": {
        "id": "quSxE0Yt_LVP"
      },
      "source": [
        "## Linear Model Definitions\n",
        "\n",
        "**Definition:** linear function.\n",
        "> A linear function is a function with the following functional form for inputs with $n$ values -\n",
        ">\n",
        "> \\begin{array}{rcl}\n",
        "> f_{\\mathbf{c}}(\\mathbf{x}) & = & \\sum_{i = 0}^{n-1} (x_i * c_i) + c_n \\\\\n",
        "> \\end{array}\n",
        ">\n",
        "> where the parameters $\\mathbf{c}$ are a vector of $n+1$ real numbers.\n",
        "\n",
        "**Definition:** linear model.\n",
        "> A linear model is a model optimizing a linear functional form to match the target data.\n"
      ]
    },
    {
      "cell_type": "code",
      "execution_count": null,
      "metadata": {
        "id": "M4hAj_Qd-7wG"
      },
      "outputs": [],
      "source": [
        "import csv"
      ]
    },
    {
      "cell_type": "code",
      "execution_count": null,
      "metadata": {
        "id": "zgH49qA3-01K"
      },
      "outputs": [],
      "source": [
        "with open(\"mango-tiny.tsv\") as mango_file:\n",
        "    mango_reader = csv.DictReader(mango_file, dialect=\"excel-tab\")\n",
        "    data = list(mango_reader)"
      ]
    },
    {
      "cell_type": "code",
      "execution_count": null,
      "metadata": {
        "colab": {
          "base_uri": "https://localhost:8080/"
        },
        "id": "PU1JMdcz-yPS",
        "outputId": "ff8a3b29-8fff-447b-aaaa-e23dab85a485"
      },
      "outputs": [
        {
          "data": {
            "text/plain": [
              "{'green_rating': '1',\n",
              " 'yellow_rating': '5',\n",
              " 'softness': '4',\n",
              " 'wrinkles': '0',\n",
              " 'estimated_flavor': '4',\n",
              " 'estimated_sweetness': '4',\n",
              " 'rated_flavor': '5'}"
            ]
          },
          "execution_count": 15,
          "metadata": {},
          "output_type": "execute_result"
        }
      ],
      "source": [
        "data[0]"
      ]
    },
    {
      "cell_type": "code",
      "execution_count": null,
      "metadata": {
        "id": "T_5APU9B-l7v"
      },
      "outputs": [],
      "source": [
        "model = {\"estimated_flavor\" : 0.8, \"estimated_sweetness\": 0.2, \"wrinkles\": -0.2}"
      ]
    },
    {
      "cell_type": "code",
      "execution_count": null,
      "metadata": {
        "id": "oRkR-aE6-gH4"
      },
      "outputs": [],
      "source": [
        "def predict(row):\n",
        "    return sum(float(row[k]) * model.get(k, 0) for k in row)"
      ]
    },
    {
      "cell_type": "code",
      "execution_count": null,
      "metadata": {
        "colab": {
          "base_uri": "https://localhost:8080/"
        },
        "id": "pgUA87q3-Wre",
        "outputId": "c8f3dc4d-e489-4882-9dc1-48a10fc9a2c3"
      },
      "outputs": [
        {
          "data": {
            "text/plain": [
              "[4.0, 4.8, 2.8000000000000003, 1.8]"
            ]
          },
          "execution_count": 18,
          "metadata": {},
          "output_type": "execute_result"
        }
      ],
      "source": [
        "[predict(row) for row in data]"
      ]
    },
    {
      "cell_type": "markdown",
      "metadata": {
        "id": "Wyw-tUddpPd3-header"
      },
      "source": [
        "## Image: Rated Flavor vs Example Model Predictions\n"
      ]
    },
    {
      "cell_type": "code",
      "execution_count": null,
      "metadata": {
        "cellView": "form",
        "colab": {
          "base_uri": "https://localhost:8080/",
          "height": 472
        },
        "id": "Wyw-tUddpPd3",
        "outputId": "03d7adec-e9f4-4e8d-b527-fccf92b10bbd"
      },
      "outputs": [
        {
          "data": {
            "image/png": "[encoded data removed]",
            "text/plain": [
              "<Figure size 640x480 with 1 Axes>"
            ]
          },
          "metadata": {},
          "output_type": "display_data"
        }
      ],
      "source": [
        "\n",
        "import matplotlib.pyplot as plt\n",
        "\n",
        "plt.plot([1, 5], [1, 5], label=\"actual=predicted\")\n",
        "plt.plot([predict(row) for row in data], [float(row[\"rated_flavor\"]) for row in data], linestyle=\"none\", marker=\"o\", label=\"actual vs predicted\")\n",
        "\n",
        "plt.legend()\n",
        "plt.xlabel(\"Predicted Flavor\")\n",
        "plt.ylabel(\"Actual Flavor\")\n",
        "plt.title(\"Actual vs Predicted Flavor\")\n",
        "\n",
        "None"
      ]
    }
  ],
  "metadata": {
    "colab": {},
    "kernelspec": {
      "display_name": "Python 3",
      "name": "python3"
    },
    "language_info": {
      "codemirror_mode": {
        "name": "ipython",
        "version": 3
      },
      "file_extension": ".py",
      "mimetype": "text/x-python",
      "name": "python",
      "nbconvert_exporter": "python",
      "pygments_lexer": "ipython3",
      "version": "3.9.6"
    }
  },
  "nbformat": 4,
  "nbformat_minor": 0
}