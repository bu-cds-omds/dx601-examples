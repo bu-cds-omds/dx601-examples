{
  "cells": [
    {
      "cell_type": "markdown",
      "metadata": {
        "id": "wEODtV5drLQd"
      },
      "source": [
        "# Video: Interpreting Linear Models\n"
      ]
    },
    {
      "cell_type": "code",
      "execution_count": null,
      "metadata": {
        "id": "H5czwdAejzGf"
      },
      "outputs": [],
      "source": [
        "import json"
      ]
    },
    {
      "cell_type": "code",
      "execution_count": null,
      "metadata": {
        "id": "vBFWV0ZVjsFM"
      },
      "outputs": [],
      "source": [
        "model = {\"estimated_flavor\" : 0.8, \"estimated_sweetness\": 0.2, \"wrinkles\": -0.2}"
      ]
    },
    {
      "cell_type": "code",
      "execution_count": null,
      "metadata": {
        "colab": {
          "base_uri": "https://localhost:8080/"
        },
        "id": "CndZM5NIj3AS",
        "outputId": "3c53f54d-b8aa-47dd-97fe-8af0d2bb88cd"
      },
      "outputs": [
        {
          "name": "stdout",
          "output_type": "stream",
          "text": [
            "{\n",
            "  \"estimated_flavor\": 0.8,\n",
            "  \"estimated_sweetness\": 0.2,\n",
            "  \"wrinkles\": -0.2\n",
            "}\n"
          ]
        }
      ],
      "source": [
        "# pretty print the model dictionary\n",
        "print(json.dumps(model, indent=2))"
      ]
    }
  ],
  "metadata": {
    "colab": {},
    "kernelspec": {
      "display_name": "Python 3",
      "name": "python3"
    },
    "language_info": {
      "codemirror_mode": {
        "name": "ipython",
        "version": 3
      },
      "file_extension": ".py",
      "mimetype": "text/x-python",
      "name": "python",
      "nbconvert_exporter": "python",
      "pygments_lexer": "ipython3",
      "version": "3.9.6"
    }
  },
  "nbformat": 4,
  "nbformat_minor": 0
}