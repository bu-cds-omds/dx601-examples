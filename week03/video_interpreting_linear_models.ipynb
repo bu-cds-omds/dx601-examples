{
  "cells": [
    {
      "cell_type": "markdown",
      "metadata": {
        "id": "wEODtV5drLQd"
      },
      "source": [
        "# Video: Interpreting Linear Models\n"
      ]
    },
    {
      "cell_type": "code",
      "execution_count": null,
      "metadata": {
        "id": "H5czwdAejzGf"
      },
      "outputs": [],
      "source": [
        "import json"
      ]
    },
    {
      "cell_type": "code",
      "execution_count": null,
      "metadata": {
        "id": "vBFWV0ZVjsFM"
      },
      "outputs": [],
      "source": [
        "model = {\"estimated_flavor\" : 0.8, \"estimated_sweetness\": 0.2, \"wrinkles\": -0.2}"
      ]
    },
    {
      "cell_type": "markdown",
      "metadata": {
        "id": "8kW2iWkzkFuX"
      },
      "source": [
        "Script:\n",
        "* So what exactly is this model doing?"
      ]
    },
    {
      "cell_type": "code",
      "execution_count": null,
      "metadata": {
        "colab": {
          "base_uri": "https://localhost:8080/"
        },
        "id": "CndZM5NIj3AS",
        "outputId": "3c53f54d-b8aa-47dd-97fe-8af0d2bb88cd"
      },
      "outputs": [
        {
          "name": "stdout",
          "output_type": "stream",
          "text": [
            "{\n",
            "  \"estimated_flavor\": 0.8,\n",
            "  \"estimated_sweetness\": 0.2,\n",
            "  \"wrinkles\": -0.2\n",
            "}\n"
          ]
        }
      ],
      "source": [
        "# pretty print the model dictionary\n",
        "print(json.dumps(model, indent=2))"
      ]
    },
    {
      "cell_type": "markdown",
      "metadata": {
        "id": "QLD1eArbjVtb"
      },
      "source": [
        "Script:\n",
        "* The model only has three non-zero coefficients for estimated flavor, estimated sweetness, and wrinkles.\n",
        "* So only those three columns matter when this model makes predictions.\n",
        "* So the model's prediction will be 0.8 times estimated flavor plus 0.2 times estimated sweetness minus 0.2 times wrinkles.\n",
        "* Since I chose these coefficients, you can see my personal biases. Later, we'll be building an optimized model for this data, and you can decide whether the math supports or refutes my bias.\n",
        "* So anyway, the biggest coefficient here is the 0.8 for estimated flavor.\n",
        "* I'd interpret this as me trusting the labelers judgment of what makes a tasty mango.\n",
        "* Each increase in the labelers' estimated flavor will increase the predicted flavor of this model by 0.8.\n",
        "* For the other two columns, the prediction changes by 0.2 for each increase by one in the respective column, but it increases by 0.2 for estimated sweetness, and decreases by 0.2 for wrinkles, because the latter coefficient is negative.\n",
        "* More quantitatively, maybe I care more about sweetness than the labelers do, or at least I think I do.\n",
        "* I should point out that there are a couple potential traps in this data, that we will dig into later in the module.\n",
        "* First, many of these columns are probably correlated.\n",
        "* Like softness, estimated sweetness and estimated flavor.\n",
        "* Even how yellow the mango is.\n",
        "* All of those would be driven by how ripe the mango is, but we don't have a direct measure of ripeness.\n",
        "* We will talk about correlations from a couple different angles during this module.\n",
        "* Second, the estimate columns from the labelers are potentially unreliable, since they depend on human judgment and individual tastes.\n",
        "* If we have an expert mango labeler, they might be able to give us great estimates, but we should not fool ourselves thinking that any labeler will give us great estimates.\n"
      ]
    }
  ],
  "metadata": {
    "colab": {},
    "kernelspec": {
      "display_name": "Python 3",
      "name": "python3"
    },
    "language_info": {
      "codemirror_mode": {
        "name": "ipython",
        "version": 3
      },
      "file_extension": ".py",
      "mimetype": "text/x-python",
      "name": "python",
      "nbconvert_exporter": "python",
      "pygments_lexer": "ipython3",
      "version": "3.9.6"
    }
  },
  "nbformat": 4,
  "nbformat_minor": 0
}