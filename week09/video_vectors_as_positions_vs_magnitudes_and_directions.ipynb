{
  "cells": [
    {
      "cell_type": "markdown",
      "metadata": {
        "id": "_J1swJLIDUxN"
      },
      "source": [
        "# Video: Vectors as Positions vs Magnitudes and Directions\n",
        "\n",
        "This video looks at the complementary uses of vectors to represent positions as well as magnitudes and directions.\n"
      ]
    },
    {
      "cell_type": "code",
      "execution_count": null,
      "metadata": {
        "id": "iIAkaAMZ-SCJ"
      },
      "outputs": [],
      "source": [
        "import matplotlib.pyplot as plt"
      ]
    },
    {
      "cell_type": "markdown",
      "metadata": {
        "id": "Xm8iM_d88dAt"
      },
      "source": [
        "## What Does a Vector Represent?\n",
        "\n",
        "\\begin{array}{cc}\n",
        "\\begin{bmatrix}\n",
        "3 \\\\\n",
        "4 \\\\\n",
        "\\end{bmatrix} & ??? \\\\\n",
        "\\end{array}\n"
      ]
    },
    {
      "cell_type": "code",
      "execution_count": null,
      "metadata": {
        "cellView": "form",
        "colab": {
          "base_uri": "https://localhost:8080/",
          "height": 451
        },
        "id": "Zz1uCtXU_pyY",
        "outputId": "624735b9-1f74-4b27-e498-c2feccdd8ff3"
      },
      "outputs": [
        {
          "data": {
            "image/png": "[encoded data removed]",
            "text/plain": [
              "<Figure size 500x500 with 1 Axes>"
            ]
          },
          "metadata": {},
          "output_type": "display_data"
        }
      ],
      "source": [
        "# @title ##### Slide: Vectors as Positions\n",
        "\n",
        "plt.figure(figsize=(5,5))\n",
        "\n",
        "plt.gca().axhline(y=0, color=\"grey\")\n",
        "plt.gca().axvline(x=0, color=\"grey\")\n",
        "plt.gca().set_xlim((-2, 6))\n",
        "plt.gca().set_ylim((-2, 6))\n",
        "plt.grid(True, linewidth=0.5)\n",
        "\n",
        "plt.annotate('(3, 4)', xy=(3.125, 3.625))\n",
        "plt.plot(3, 4, marker=\"o\")\n",
        "\n",
        "None"
      ]
    },
    {
      "cell_type": "code",
      "execution_count": null,
      "metadata": {
        "cellView": "form",
        "colab": {
          "base_uri": "https://localhost:8080/",
          "height": 451
        },
        "id": "PPTS1qs1CzWz",
        "outputId": "e51e66d5-b76b-45de-8df1-49734440032d"
      },
      "outputs": [
        {
          "data": {
            "image/png": "[encoded data removed]",
            "text/plain": [
              "<Figure size 500x500 with 1 Axes>"
            ]
          },
          "metadata": {},
          "output_type": "display_data"
        }
      ],
      "source": [
        "# @title ##### Slide: Vectors as Magnitudes and Directions\n",
        "\n",
        "plt.figure(figsize=(5,5))\n",
        "\n",
        "plt.gca().axhline(y=0, color=\"grey\")\n",
        "plt.gca().axvline(x=0, color=\"grey\")\n",
        "plt.gca().set_xlim((-2, 6))\n",
        "plt.gca().set_ylim((-2, 6))\n",
        "plt.grid(True, linewidth=0.5)\n",
        "\n",
        "plt.annotate('A = (3, 4)', xy=(3.125, 3.625))\n",
        "plt.plot(3, 4, marker=\"o\")\n",
        "\n",
        "plt.annotate('B = (2, 1)', xy=(2.125, 0.750))\n",
        "plt.plot(2, 1, marker=\"o\")\n",
        "\n",
        "plt.annotate('A - B = (1, 3)', xy=(2.75, 2.5))\n",
        "plt.arrow(2, 1, 1, 3, head_width=0.25, length_includes_head=True, width=0.02)\n",
        "\n",
        "None"
      ]
    },
    {
      "cell_type": "markdown",
      "metadata": {
        "id": "KTaB6T8V_Jt1"
      },
      "source": [
        "## Linear Algebra Leans Towards Magnitudes and Directions\n",
        "\n",
        "IMHO\n",
        "* Operating on positions gives magnitudes and directions.\n",
        "* Operating on magnitudes and directions gives... more magnitudes and directions.\n",
        "* Linear algebra will happily operate on any set of numbers in the same way, regardless of the semantics."
      ]
    },
    {
      "cell_type": "markdown",
      "metadata": {
        "id": "oE3AH4h17pId"
      },
      "source": [
        "## But Data Science often Creates Abstract Representation Vectors\n",
        "\n",
        "* Data science is not so particular about the vector interpretation, but\n",
        "  * Smoothness is important, and\n",
        "  * Interpretability will be important.\n",
        "* Later, you will hear the word manifold thrown around casually.\n",
        "  * Intuition is that there is a flatter and simpler form of the data.\n",
        "  * Linear algebra tools are very compatible with this description."
      ]
    }
  ],
  "metadata": {
    "colab": {},
    "kernelspec": {
      "display_name": "Python 3",
      "name": "python3"
    },
    "language_info": {
      "codemirror_mode": {
        "name": "ipython",
        "version": 3
      },
      "file_extension": ".py",
      "mimetype": "text/x-python",
      "name": "python",
      "nbconvert_exporter": "python",
      "pygments_lexer": "ipython3",
      "version": "3.9.6"
    }
  },
  "nbformat": 4,
  "nbformat_minor": 0
}