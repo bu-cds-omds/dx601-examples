{
  "cells": [
    {
      "cell_type": "markdown",
      "metadata": {
        "id": "JAokyw-tsXIG"
      },
      "source": [
        "# Video: Resampling in Python\n",
        "\n",
        "This video shows how to easily resample a data set in Python.\n",
        "The method used works both for built-in Python sequences and NumPy arrays."
      ]
    },
    {
      "cell_type": "markdown",
      "metadata": {
        "id": "29Zz6LEWuYmu"
      },
      "source": [
        "## Resampling in Python\n",
        "\n",
        "Given a data set, how do we sample a row from it?"
      ]
    },
    {
      "cell_type": "markdown",
      "metadata": {
        "id": "GGvwH9CVsjfu"
      },
      "source": [
        "Script:\n",
        "* Resampling, or drawing samples from a sample distribution, is easy in Python.\n",
        "* Let's start with a simple data set in a Python list."
      ]
    },
    {
      "cell_type": "code",
      "execution_count": null,
      "metadata": {
        "colab": {
          "base_uri": "https://localhost:8080/"
        },
        "id": "5x_iIA68s2Jp",
        "outputId": "a10f3978-2ac0-4645-a198-256d78046fcd"
      },
      "outputs": [
        {
          "data": {
            "text/plain": [
              "[[1, 2], [3, 4], [5, 6]]"
            ]
          },
          "execution_count": null,
          "metadata": {},
          "output_type": "execute_result"
        }
      ],
      "source": [
        "X = [[1, 2], [3, 4], [5, 6]]\n",
        "X"
      ]
    },
    {
      "cell_type": "markdown",
      "metadata": {
        "id": "XvS1FdLQtARw"
      },
      "source": [
        "Script:\n",
        "* To sample this list X, or any Python sequence, we can use the choice function in the built-in random module."
      ]
    },
    {
      "cell_type": "code",
      "execution_count": null,
      "metadata": {
        "colab": {
          "base_uri": "https://localhost:8080/"
        },
        "id": "t6VY5o0dlIzC",
        "outputId": "0e709eca-686a-4d56-aa10-69c08c8bc05d"
      },
      "outputs": [
        {
          "data": {
            "text/plain": [
              "[5, 6]"
            ]
          },
          "execution_count": null,
          "metadata": {},
          "output_type": "execute_result"
        }
      ],
      "source": [
        "import random\n",
        "random.choice(X)"
      ]
    },
    {
      "cell_type": "markdown",
      "metadata": {
        "id": "Sdi2zhUjtLdG"
      },
      "source": [
        "Script:\n",
        "* You can call random dot choice repeatedly to get more samples."
      ]
    },
    {
      "cell_type": "code",
      "execution_count": null,
      "metadata": {
        "colab": {
          "base_uri": "https://localhost:8080/"
        },
        "id": "sK49ImjotKn-",
        "outputId": "dba8a606-8c8a-40fe-b477-adf0885dddfb"
      },
      "outputs": [
        {
          "data": {
            "text/plain": [
              "[5, 6]"
            ]
          },
          "execution_count": null,
          "metadata": {},
          "output_type": "execute_result"
        }
      ],
      "source": [
        "random.choice(X)"
      ]
    },
    {
      "cell_type": "code",
      "execution_count": null,
      "metadata": {
        "colab": {
          "base_uri": "https://localhost:8080/"
        },
        "id": "EHL1gKYxtQpr",
        "outputId": "99cbf979-2c20-4236-9b97-39905a53569f"
      },
      "outputs": [
        {
          "data": {
            "text/plain": [
              "[5, 6]"
            ]
          },
          "execution_count": null,
          "metadata": {},
          "output_type": "execute_result"
        }
      ],
      "source": [
        "random.choice(X)"
      ]
    },
    {
      "cell_type": "code",
      "execution_count": null,
      "metadata": {
        "colab": {
          "base_uri": "https://localhost:8080/"
        },
        "id": "wy4PEajRtQZJ",
        "outputId": "997832ad-c8fe-49d9-942a-b4e8ec89be09"
      },
      "outputs": [
        {
          "data": {
            "text/plain": [
              "[3, 4]"
            ]
          },
          "execution_count": null,
          "metadata": {},
          "output_type": "execute_result"
        }
      ],
      "source": [
        "random.choice(X)"
      ]
    },
    {
      "cell_type": "markdown",
      "metadata": {
        "id": "mxEtCVZAtVhD"
      },
      "source": [
        "Script:\n",
        "* If X is a numpy array, then random dot choice still works."
      ]
    },
    {
      "cell_type": "markdown",
      "metadata": {
        "id": "U7VgKT6JuA9K"
      },
      "source": [
        "Script:\n",
        "* Let's convert X to a numpy array real quick."
      ]
    },
    {
      "cell_type": "code",
      "execution_count": null,
      "metadata": {
        "colab": {
          "base_uri": "https://localhost:8080/"
        },
        "id": "Nd347X6Ttcwg",
        "outputId": "7d69cc31-3d13-4583-cf5e-68156f0f7439"
      },
      "outputs": [
        {
          "data": {
            "text/plain": [
              "array([[1, 2],\n",
              "       [3, 4],\n",
              "       [5, 6]])"
            ]
          },
          "execution_count": null,
          "metadata": {},
          "output_type": "execute_result"
        }
      ],
      "source": [
        "import numpy as np\n",
        "X = np.asarray(X)\n",
        "X"
      ]
    },
    {
      "cell_type": "code",
      "execution_count": null,
      "metadata": {
        "colab": {
          "base_uri": "https://localhost:8080/"
        },
        "id": "1r9-CvK9tieS",
        "outputId": "c7295ddd-7660-44db-ceef-f5d3b14206ce"
      },
      "outputs": [
        {
          "data": {
            "text/plain": [
              "array([3, 4])"
            ]
          },
          "execution_count": null,
          "metadata": {},
          "output_type": "execute_result"
        }
      ],
      "source": [
        "random.choice(X)"
      ]
    },
    {
      "cell_type": "markdown",
      "metadata": {
        "id": "7jLI3T8RuswY"
      },
      "source": [
        "## Resampling in Python Recap\n",
        "\n",
        "* Start with `random.choice`."
      ]
    },
    {
      "cell_type": "markdown",
      "metadata": {
        "id": "fn_w9RP5uE-C"
      },
      "source": [
        "Script:\n",
        "* As of April 2024, searching google for \"numpy random row\" did not give you this answer.\n",
        "* The results alternately said it was not possible or gave a medium complicated 3 to 5 line solution.\n",
        "* When you're looking for something like this where you know there is a really easy answer, like random dot choice for lists, try combining them; that often works.\n",
        "* You probably are not the first to try, and the authors like their code to work broadly."
      ]
    }
  ],
  "metadata": {
    "colab": {},
    "kernelspec": {
      "display_name": "Python 3",
      "name": "python3"
    },
    "language_info": {
      "codemirror_mode": {
        "name": "ipython",
        "version": 3
      },
      "file_extension": ".py",
      "mimetype": "text/x-python",
      "name": "python",
      "nbconvert_exporter": "python",
      "pygments_lexer": "ipython3",
      "version": "3.9.6"
    }
  },
  "nbformat": 4,
  "nbformat_minor": 0
}