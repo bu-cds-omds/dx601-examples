{
  "cells": [
    {
      "cell_type": "markdown",
      "metadata": {
        "id": "4xZ4h2KOkopN"
      },
      "source": [
        "# Code Example: Sampling Boolean Random Variables\n",
        "\n",
        "Here is the sample code from the previous video."
      ]
    },
    {
      "cell_type": "code",
      "execution_count": null,
      "metadata": {
        "id": "v0PsqpU_kvi1"
      },
      "outputs": [],
      "source": [
        "import random\n",
        "\n",
        "def sample_boolean(probability):\n",
        "    return random.random() < probability"
      ]
    },
    {
      "cell_type": "markdown",
      "metadata": {
        "id": "gtgEds-HqaBT"
      },
      "source": [
        "**Code Notes:**\n",
        "* [random](https://docs.python.org/3/library/random.html) is Python's built-in pseudo-random number generator library.\n",
        "* [random.random](https://docs.python.org/3/library/random.html#random.random) returns a random floating point number uniformly at random from the range $\\left[0,1\\right)$."
      ]
    }
  ],
  "metadata": {
    "colab": {},
    "kernelspec": {
      "display_name": "Python 3",
      "name": "python3"
    },
    "language_info": {
      "codemirror_mode": {
        "name": "ipython",
        "version": 3
      },
      "file_extension": ".py",
      "mimetype": "text/x-python",
      "name": "python",
      "nbconvert_exporter": "python",
      "pygments_lexer": "ipython3",
      "version": "3.9.6"
    }
  },
  "nbformat": 4,
  "nbformat_minor": 0
}